{
  "nbformat": 4,
  "nbformat_minor": 0,
  "metadata": {
    "colab": {
      "name": "SVM_MORFs.ipynb",
      "provenance": []
    },
    "kernelspec": {
      "name": "python3",
      "display_name": "Python 3"
    }
  },
  "cells": [
    {
      "cell_type": "code",
      "metadata": {
        "id": "VB2NpvRoC2Qf"
      },
      "source": [
        "# Code to read csv file into Colaboratory:\n",
        "!pip install -U -q PyDrive\n",
        "import pandas as pd\n",
        "import numpy as np\n",
        "from pydrive.auth import GoogleAuth\n",
        "from pydrive.drive import GoogleDrive\n",
        "from google.colab import auth\n",
        "from oauth2client.client import GoogleCredentials\n",
        "from sklearn import svm\n",
        "from sklearn.utils.validation import column_or_1d\n",
        "from sklearn.metrics import accuracy_score"
      ],
      "execution_count": null,
      "outputs": []
    },
    {
      "cell_type": "code",
      "metadata": {
        "id": "cAhtXU0jWj6Q"
      },
      "source": [
        "# Authenticate and create the PyDrive client.\n",
        "auth.authenticate_user()\n",
        "gauth = GoogleAuth()\n",
        "gauth.credentials = GoogleCredentials.get_application_default()\n",
        "drive = GoogleDrive(gauth)"
      ],
      "execution_count": null,
      "outputs": []
    },
    {
      "cell_type": "code",
      "metadata": {
        "id": "ik27sXtUin2b"
      },
      "source": [
        "id_train_features = '1LnKdehYxXYXIUhxO1NFeu5GebmKpbYjY'\n",
        "id_test_features = '1CIuprbEUeJDEdg0WO5Sq2-xV8OBElXLX'\n",
        "id_train_labels = '1dzgH430IP8VV4Jw6InbfTiMEFUxZk1pO'\n",
        "id_test_labels = '10dwdJ5EI_w-HfeM3F8CyctlqAnuW3RY9'"
      ],
      "execution_count": null,
      "outputs": []
    },
    {
      "cell_type": "code",
      "metadata": {
        "id": "3J17bFpwiaQE"
      },
      "source": [
        "def import_libs():\n",
        "  import pandas as pd\n",
        "  import numpy as np\n",
        "  from pydrive.auth import GoogleAuth\n",
        "  from pydrive.drive import GoogleDrive\n",
        "  from google.colab import auth\n",
        "  from oauth2client.client import GoogleCredentials\n",
        "  from sklearn import svm\n",
        "  from sklearn.utils.validation import column_or_1d\n",
        "  from sklearn.metrics import accuracy_score  \n",
        "  from sklearn.metrics import roc_auc_score"
      ],
      "execution_count": null,
      "outputs": []
    },
    {
      "cell_type": "code",
      "metadata": {
        "id": "4Dszy1heiRJ7"
      },
      "source": [
        "def authenticate():\n",
        "  auth.authenticate_user()\n",
        "  gauth = GoogleAuth()\n",
        "  gauth.credentials = GoogleCredentials.get_application_default()\n",
        "  drive = GoogleDrive(gauth)"
      ],
      "execution_count": null,
      "outputs": []
    },
    {
      "cell_type": "code",
      "metadata": {
        "id": "Rr8DiGIViH86"
      },
      "source": [
        "def file_ids():\n",
        "  id_train_features = '1LnKdehYxXYXIUhxO1NFeu5GebmKpbYjY'\n",
        "  id_test_features = '1CIuprbEUeJDEdg0WO5Sq2-xV8OBElXLX'\n",
        "  id_train_labels = '1dzgH430IP8VV4Jw6InbfTiMEFUxZk1pO'\n",
        "  id_test_labels = '10dwdJ5EI_w-HfeM3F8CyctlqAnuW3RY9'\n",
        "  return id_train_features,id_test_features,id_train_labels,id_test_labels"
      ],
      "execution_count": null,
      "outputs": []
    },
    {
      "cell_type": "code",
      "metadata": {
        "id": "R89tdtrXO84x"
      },
      "source": [
        "def define_datasets():\n",
        "  downloaded = drive.CreateFile({'id':id_train_features})   # replace the id with id of file you want to access\n",
        "  downloaded.GetContentFile('train_features.csv')  \n",
        "  # Dataset is now stored in a Pandas Dataframe\n",
        "  train_X = pd.read_csv('train_features.csv',header=None)\n",
        "  train_X.head()\n",
        "\n",
        "\n",
        "  downloaded = drive.CreateFile({'id':id_test_features})   # replace the id with id of file you want to access\n",
        "  downloaded.GetContentFile('test_features.csv')  \n",
        "  # Dataset is now stored in a Pandas Dataframe\n",
        "  test_X = pd.read_csv('test_features.csv',header=None)\n",
        "  test_X.head()\n",
        "\n",
        "  downloaded = drive.CreateFile({'id':id_train_labels})   # replace the id with id of file you want to access\n",
        "  downloaded.GetContentFile('train_labels.csv')  \n",
        "  # Dataset is now stored in a Pandas Dataframe\n",
        "  train_Y = pd.read_csv('train_labels.csv',header=None)\n",
        "  train_Y.head()\n",
        "\n",
        "  downloaded = drive.CreateFile({'id':id_test_labels})   # replace the id with id of file you want to access\n",
        "  downloaded.GetContentFile('test_labels.csv')  \n",
        "  # Dataset is now stored in a Pandas Dataframe\n",
        "  test_Y = pd.read_csv('test_labels.csv',header=None)\n",
        "  test_Y.head()\n",
        "  test_Y = test_Y[5]\n",
        "\n",
        "  return train_X,test_X,train_Y,test_Y"
      ],
      "execution_count": null,
      "outputs": []
    },
    {
      "cell_type": "code",
      "metadata": {
        "id": "xhPXGp9XjSTq"
      },
      "source": [
        "def final_ds():\n",
        "  x = np.array(train_X)\n",
        "  y = np.array(train_Y)\n",
        "  y = column_or_1d(y, warn=True)\n",
        "  x_t = np.array(test_X)\n",
        "  y_t = np.array(test_Y)\n",
        "  y_t = column_or_1d(y_t, warn=True)\n",
        "  print('Shape of training dataset',x.shape)\n",
        "  print('Shape of label tensor:', y.shape)\n",
        "  print('Shape of test dataset',x_t.shape)\n",
        "  print('Shape of test label tensor:', y_t.shape)"
      ],
      "execution_count": null,
      "outputs": []
    },
    {
      "cell_type": "code",
      "metadata": {
        "id": "gWWOtcyQoaor"
      },
      "source": [
        "def model_fit():\n",
        "  clf = svm.SVC(probability=True)\n",
        "  clf.fit(x, y)\n",
        "\n",
        "  results = clf.predict(x_t)\n",
        "  preds_train = clf.predict_proba(x)\n",
        "  preds_test = clf.predict_proba(x_t) \n",
        "  accuracy_score(y_t, results)\n",
        "\n",
        "  a = np.zeros(preds_test.shape[0])\n",
        "  j = 0\n",
        "  for i in preds_test:\n",
        "    a[j] = i[1]\n",
        "    j = j+1\n",
        "  a.shape\n",
        "\n",
        "  roc_auc_score(y_t, a)"
      ],
      "execution_count": null,
      "outputs": []
    },
    {
      "cell_type": "code",
      "metadata": {
        "id": "H_RlSVSEPq12",
        "outputId": "c707e32f-4fa3-4f11-bd4e-7d85fcf8e360",
        "colab": {
          "base_uri": "https://localhost:8080/",
          "height": 224
        }
      },
      "source": [
        "downloaded = drive.CreateFile({'id':id_train_features})   # replace the id with id of file you want to access\n",
        "downloaded.GetContentFile('train_features.csv')  \n",
        "# Dataset is now stored in a Pandas Dataframe\n",
        "train_X = pd.read_csv('train_features.csv',header=None)\n",
        "train_X.head()"
      ],
      "execution_count": null,
      "outputs": [
        {
          "output_type": "execute_result",
          "data": {
            "text/html": [
              "<div>\n",
              "<style scoped>\n",
              "    .dataframe tbody tr th:only-of-type {\n",
              "        vertical-align: middle;\n",
              "    }\n",
              "\n",
              "    .dataframe tbody tr th {\n",
              "        vertical-align: top;\n",
              "    }\n",
              "\n",
              "    .dataframe thead th {\n",
              "        text-align: right;\n",
              "    }\n",
              "</style>\n",
              "<table border=\"1\" class=\"dataframe\">\n",
              "  <thead>\n",
              "    <tr style=\"text-align: right;\">\n",
              "      <th></th>\n",
              "      <th>0</th>\n",
              "      <th>1</th>\n",
              "      <th>2</th>\n",
              "      <th>3</th>\n",
              "      <th>4</th>\n",
              "      <th>5</th>\n",
              "      <th>6</th>\n",
              "      <th>7</th>\n",
              "      <th>8</th>\n",
              "      <th>9</th>\n",
              "      <th>10</th>\n",
              "      <th>11</th>\n",
              "      <th>12</th>\n",
              "      <th>13</th>\n",
              "      <th>14</th>\n",
              "      <th>15</th>\n",
              "      <th>16</th>\n",
              "      <th>17</th>\n",
              "      <th>18</th>\n",
              "      <th>19</th>\n",
              "      <th>20</th>\n",
              "      <th>21</th>\n",
              "      <th>22</th>\n",
              "      <th>23</th>\n",
              "      <th>24</th>\n",
              "      <th>25</th>\n",
              "      <th>26</th>\n",
              "      <th>27</th>\n",
              "      <th>28</th>\n",
              "      <th>29</th>\n",
              "      <th>30</th>\n",
              "      <th>31</th>\n",
              "      <th>32</th>\n",
              "      <th>33</th>\n",
              "      <th>34</th>\n",
              "      <th>35</th>\n",
              "      <th>36</th>\n",
              "      <th>37</th>\n",
              "      <th>38</th>\n",
              "      <th>39</th>\n",
              "      <th>40</th>\n",
              "    </tr>\n",
              "  </thead>\n",
              "  <tbody>\n",
              "    <tr>\n",
              "      <th>0</th>\n",
              "      <td>0.087</td>\n",
              "      <td>0.106</td>\n",
              "      <td>0.059</td>\n",
              "      <td>0.170</td>\n",
              "      <td>0.084</td>\n",
              "      <td>0.090</td>\n",
              "      <td>0.052</td>\n",
              "      <td>0.153</td>\n",
              "      <td>0.159</td>\n",
              "      <td>0.049</td>\n",
              "      <td>0.086</td>\n",
              "      <td>0.055</td>\n",
              "      <td>0.080</td>\n",
              "      <td>0.052</td>\n",
              "      <td>0.098</td>\n",
              "      <td>0.038</td>\n",
              "      <td>0.059</td>\n",
              "      <td>0.177</td>\n",
              "      <td>0.047</td>\n",
              "      <td>0.046</td>\n",
              "      <td>0.205</td>\n",
              "      <td>0.090</td>\n",
              "      <td>0.127</td>\n",
              "      <td>0.181</td>\n",
              "      <td>0.171</td>\n",
              "      <td>0.106</td>\n",
              "      <td>0.193</td>\n",
              "      <td>0.059</td>\n",
              "      <td>0.082</td>\n",
              "      <td>0.205</td>\n",
              "      <td>0.079</td>\n",
              "      <td>0.066</td>\n",
              "      <td>0.101</td>\n",
              "      <td>0.061</td>\n",
              "      <td>0.126</td>\n",
              "      <td>0.165</td>\n",
              "      <td>0.075</td>\n",
              "      <td>0.165</td>\n",
              "      <td>0.199</td>\n",
              "      <td>0.056</td>\n",
              "      <td>0.072</td>\n",
              "    </tr>\n",
              "    <tr>\n",
              "      <th>1</th>\n",
              "      <td>0.106</td>\n",
              "      <td>0.059</td>\n",
              "      <td>0.170</td>\n",
              "      <td>0.084</td>\n",
              "      <td>0.090</td>\n",
              "      <td>0.052</td>\n",
              "      <td>0.153</td>\n",
              "      <td>0.159</td>\n",
              "      <td>0.049</td>\n",
              "      <td>0.086</td>\n",
              "      <td>0.055</td>\n",
              "      <td>0.080</td>\n",
              "      <td>0.052</td>\n",
              "      <td>0.098</td>\n",
              "      <td>0.038</td>\n",
              "      <td>0.059</td>\n",
              "      <td>0.177</td>\n",
              "      <td>0.047</td>\n",
              "      <td>0.046</td>\n",
              "      <td>0.205</td>\n",
              "      <td>0.090</td>\n",
              "      <td>0.127</td>\n",
              "      <td>0.181</td>\n",
              "      <td>0.171</td>\n",
              "      <td>0.106</td>\n",
              "      <td>0.193</td>\n",
              "      <td>0.059</td>\n",
              "      <td>0.082</td>\n",
              "      <td>0.205</td>\n",
              "      <td>0.079</td>\n",
              "      <td>0.066</td>\n",
              "      <td>0.101</td>\n",
              "      <td>0.061</td>\n",
              "      <td>0.126</td>\n",
              "      <td>0.165</td>\n",
              "      <td>0.075</td>\n",
              "      <td>0.165</td>\n",
              "      <td>0.199</td>\n",
              "      <td>0.056</td>\n",
              "      <td>0.072</td>\n",
              "      <td>0.228</td>\n",
              "    </tr>\n",
              "    <tr>\n",
              "      <th>2</th>\n",
              "      <td>0.059</td>\n",
              "      <td>0.170</td>\n",
              "      <td>0.084</td>\n",
              "      <td>0.090</td>\n",
              "      <td>0.052</td>\n",
              "      <td>0.153</td>\n",
              "      <td>0.159</td>\n",
              "      <td>0.049</td>\n",
              "      <td>0.086</td>\n",
              "      <td>0.055</td>\n",
              "      <td>0.080</td>\n",
              "      <td>0.052</td>\n",
              "      <td>0.098</td>\n",
              "      <td>0.038</td>\n",
              "      <td>0.059</td>\n",
              "      <td>0.177</td>\n",
              "      <td>0.047</td>\n",
              "      <td>0.046</td>\n",
              "      <td>0.205</td>\n",
              "      <td>0.090</td>\n",
              "      <td>0.127</td>\n",
              "      <td>0.181</td>\n",
              "      <td>0.171</td>\n",
              "      <td>0.106</td>\n",
              "      <td>0.193</td>\n",
              "      <td>0.059</td>\n",
              "      <td>0.082</td>\n",
              "      <td>0.205</td>\n",
              "      <td>0.079</td>\n",
              "      <td>0.066</td>\n",
              "      <td>0.101</td>\n",
              "      <td>0.061</td>\n",
              "      <td>0.126</td>\n",
              "      <td>0.165</td>\n",
              "      <td>0.075</td>\n",
              "      <td>0.165</td>\n",
              "      <td>0.199</td>\n",
              "      <td>0.056</td>\n",
              "      <td>0.072</td>\n",
              "      <td>0.228</td>\n",
              "      <td>0.123</td>\n",
              "    </tr>\n",
              "    <tr>\n",
              "      <th>3</th>\n",
              "      <td>0.170</td>\n",
              "      <td>0.084</td>\n",
              "      <td>0.090</td>\n",
              "      <td>0.052</td>\n",
              "      <td>0.153</td>\n",
              "      <td>0.159</td>\n",
              "      <td>0.049</td>\n",
              "      <td>0.086</td>\n",
              "      <td>0.055</td>\n",
              "      <td>0.080</td>\n",
              "      <td>0.052</td>\n",
              "      <td>0.098</td>\n",
              "      <td>0.038</td>\n",
              "      <td>0.059</td>\n",
              "      <td>0.177</td>\n",
              "      <td>0.047</td>\n",
              "      <td>0.046</td>\n",
              "      <td>0.205</td>\n",
              "      <td>0.090</td>\n",
              "      <td>0.127</td>\n",
              "      <td>0.181</td>\n",
              "      <td>0.171</td>\n",
              "      <td>0.106</td>\n",
              "      <td>0.193</td>\n",
              "      <td>0.059</td>\n",
              "      <td>0.082</td>\n",
              "      <td>0.205</td>\n",
              "      <td>0.079</td>\n",
              "      <td>0.066</td>\n",
              "      <td>0.101</td>\n",
              "      <td>0.061</td>\n",
              "      <td>0.126</td>\n",
              "      <td>0.165</td>\n",
              "      <td>0.075</td>\n",
              "      <td>0.165</td>\n",
              "      <td>0.199</td>\n",
              "      <td>0.056</td>\n",
              "      <td>0.072</td>\n",
              "      <td>0.228</td>\n",
              "      <td>0.123</td>\n",
              "      <td>0.019</td>\n",
              "    </tr>\n",
              "    <tr>\n",
              "      <th>4</th>\n",
              "      <td>0.084</td>\n",
              "      <td>0.090</td>\n",
              "      <td>0.052</td>\n",
              "      <td>0.153</td>\n",
              "      <td>0.159</td>\n",
              "      <td>0.049</td>\n",
              "      <td>0.086</td>\n",
              "      <td>0.055</td>\n",
              "      <td>0.080</td>\n",
              "      <td>0.052</td>\n",
              "      <td>0.098</td>\n",
              "      <td>0.038</td>\n",
              "      <td>0.059</td>\n",
              "      <td>0.177</td>\n",
              "      <td>0.047</td>\n",
              "      <td>0.046</td>\n",
              "      <td>0.205</td>\n",
              "      <td>0.090</td>\n",
              "      <td>0.127</td>\n",
              "      <td>0.181</td>\n",
              "      <td>0.171</td>\n",
              "      <td>0.106</td>\n",
              "      <td>0.193</td>\n",
              "      <td>0.059</td>\n",
              "      <td>0.082</td>\n",
              "      <td>0.205</td>\n",
              "      <td>0.079</td>\n",
              "      <td>0.066</td>\n",
              "      <td>0.101</td>\n",
              "      <td>0.061</td>\n",
              "      <td>0.126</td>\n",
              "      <td>0.165</td>\n",
              "      <td>0.075</td>\n",
              "      <td>0.165</td>\n",
              "      <td>0.199</td>\n",
              "      <td>0.056</td>\n",
              "      <td>0.072</td>\n",
              "      <td>0.228</td>\n",
              "      <td>0.123</td>\n",
              "      <td>0.019</td>\n",
              "      <td>0.123</td>\n",
              "    </tr>\n",
              "  </tbody>\n",
              "</table>\n",
              "</div>"
            ],
            "text/plain": [
              "      0      1      2      3      4   ...     36     37     38     39     40\n",
              "0  0.087  0.106  0.059  0.170  0.084  ...  0.075  0.165  0.199  0.056  0.072\n",
              "1  0.106  0.059  0.170  0.084  0.090  ...  0.165  0.199  0.056  0.072  0.228\n",
              "2  0.059  0.170  0.084  0.090  0.052  ...  0.199  0.056  0.072  0.228  0.123\n",
              "3  0.170  0.084  0.090  0.052  0.153  ...  0.056  0.072  0.228  0.123  0.019\n",
              "4  0.084  0.090  0.052  0.153  0.159  ...  0.072  0.228  0.123  0.019  0.123\n",
              "\n",
              "[5 rows x 41 columns]"
            ]
          },
          "metadata": {
            "tags": []
          },
          "execution_count": 6
        }
      ]
    },
    {
      "cell_type": "code",
      "metadata": {
        "id": "neMvuslWPvc4",
        "outputId": "79ac7f6a-e95d-4ef1-8ef5-a0e1230359cf",
        "colab": {
          "base_uri": "https://localhost:8080/",
          "height": 224
        }
      },
      "source": [
        "downloaded = drive.CreateFile({'id':id_test_features})   # replace the id with id of file you want to access\n",
        "downloaded.GetContentFile('test_features.csv')  \n",
        "# Dataset is now stored in a Pandas Dataframe\n",
        "test_X = pd.read_csv('test_features.csv',header=None)\n",
        "test_X.head()"
      ],
      "execution_count": null,
      "outputs": [
        {
          "output_type": "execute_result",
          "data": {
            "text/html": [
              "<div>\n",
              "<style scoped>\n",
              "    .dataframe tbody tr th:only-of-type {\n",
              "        vertical-align: middle;\n",
              "    }\n",
              "\n",
              "    .dataframe tbody tr th {\n",
              "        vertical-align: top;\n",
              "    }\n",
              "\n",
              "    .dataframe thead th {\n",
              "        text-align: right;\n",
              "    }\n",
              "</style>\n",
              "<table border=\"1\" class=\"dataframe\">\n",
              "  <thead>\n",
              "    <tr style=\"text-align: right;\">\n",
              "      <th></th>\n",
              "      <th>0</th>\n",
              "      <th>1</th>\n",
              "      <th>2</th>\n",
              "      <th>3</th>\n",
              "      <th>4</th>\n",
              "      <th>5</th>\n",
              "      <th>6</th>\n",
              "      <th>7</th>\n",
              "      <th>8</th>\n",
              "      <th>9</th>\n",
              "      <th>10</th>\n",
              "      <th>11</th>\n",
              "      <th>12</th>\n",
              "      <th>13</th>\n",
              "      <th>14</th>\n",
              "      <th>15</th>\n",
              "      <th>16</th>\n",
              "      <th>17</th>\n",
              "      <th>18</th>\n",
              "      <th>19</th>\n",
              "      <th>20</th>\n",
              "      <th>21</th>\n",
              "      <th>22</th>\n",
              "      <th>23</th>\n",
              "      <th>24</th>\n",
              "      <th>25</th>\n",
              "      <th>26</th>\n",
              "      <th>27</th>\n",
              "      <th>28</th>\n",
              "      <th>29</th>\n",
              "      <th>30</th>\n",
              "      <th>31</th>\n",
              "      <th>32</th>\n",
              "      <th>33</th>\n",
              "      <th>34</th>\n",
              "      <th>35</th>\n",
              "      <th>36</th>\n",
              "      <th>37</th>\n",
              "      <th>38</th>\n",
              "      <th>39</th>\n",
              "      <th>40</th>\n",
              "    </tr>\n",
              "  </thead>\n",
              "  <tbody>\n",
              "    <tr>\n",
              "      <th>0</th>\n",
              "      <td>0.0</td>\n",
              "      <td>0.0</td>\n",
              "      <td>0.0</td>\n",
              "      <td>0.0</td>\n",
              "      <td>0.0</td>\n",
              "      <td>0.0</td>\n",
              "      <td>0.0</td>\n",
              "      <td>0.0</td>\n",
              "      <td>0.0</td>\n",
              "      <td>0.0</td>\n",
              "      <td>0.0</td>\n",
              "      <td>0.0</td>\n",
              "      <td>0.0</td>\n",
              "      <td>0.0</td>\n",
              "      <td>0.0</td>\n",
              "      <td>0.0</td>\n",
              "      <td>0.00</td>\n",
              "      <td>0.000</td>\n",
              "      <td>0.000</td>\n",
              "      <td>0.000</td>\n",
              "      <td>0.090</td>\n",
              "      <td>0.077</td>\n",
              "      <td>0.077</td>\n",
              "      <td>0.073</td>\n",
              "      <td>0.067</td>\n",
              "      <td>0.054</td>\n",
              "      <td>0.092</td>\n",
              "      <td>0.085</td>\n",
              "      <td>0.083</td>\n",
              "      <td>0.182</td>\n",
              "      <td>0.098</td>\n",
              "      <td>0.229</td>\n",
              "      <td>0.096</td>\n",
              "      <td>0.113</td>\n",
              "      <td>0.148</td>\n",
              "      <td>0.050</td>\n",
              "      <td>0.045</td>\n",
              "      <td>0.069</td>\n",
              "      <td>0.133</td>\n",
              "      <td>0.131</td>\n",
              "      <td>0.154</td>\n",
              "    </tr>\n",
              "    <tr>\n",
              "      <th>1</th>\n",
              "      <td>0.0</td>\n",
              "      <td>0.0</td>\n",
              "      <td>0.0</td>\n",
              "      <td>0.0</td>\n",
              "      <td>0.0</td>\n",
              "      <td>0.0</td>\n",
              "      <td>0.0</td>\n",
              "      <td>0.0</td>\n",
              "      <td>0.0</td>\n",
              "      <td>0.0</td>\n",
              "      <td>0.0</td>\n",
              "      <td>0.0</td>\n",
              "      <td>0.0</td>\n",
              "      <td>0.0</td>\n",
              "      <td>0.0</td>\n",
              "      <td>0.0</td>\n",
              "      <td>0.00</td>\n",
              "      <td>0.000</td>\n",
              "      <td>0.000</td>\n",
              "      <td>0.090</td>\n",
              "      <td>0.077</td>\n",
              "      <td>0.077</td>\n",
              "      <td>0.073</td>\n",
              "      <td>0.067</td>\n",
              "      <td>0.054</td>\n",
              "      <td>0.092</td>\n",
              "      <td>0.085</td>\n",
              "      <td>0.083</td>\n",
              "      <td>0.182</td>\n",
              "      <td>0.098</td>\n",
              "      <td>0.229</td>\n",
              "      <td>0.096</td>\n",
              "      <td>0.113</td>\n",
              "      <td>0.148</td>\n",
              "      <td>0.050</td>\n",
              "      <td>0.045</td>\n",
              "      <td>0.069</td>\n",
              "      <td>0.133</td>\n",
              "      <td>0.131</td>\n",
              "      <td>0.154</td>\n",
              "      <td>0.182</td>\n",
              "    </tr>\n",
              "    <tr>\n",
              "      <th>2</th>\n",
              "      <td>0.0</td>\n",
              "      <td>0.0</td>\n",
              "      <td>0.0</td>\n",
              "      <td>0.0</td>\n",
              "      <td>0.0</td>\n",
              "      <td>0.0</td>\n",
              "      <td>0.0</td>\n",
              "      <td>0.0</td>\n",
              "      <td>0.0</td>\n",
              "      <td>0.0</td>\n",
              "      <td>0.0</td>\n",
              "      <td>0.0</td>\n",
              "      <td>0.0</td>\n",
              "      <td>0.0</td>\n",
              "      <td>0.0</td>\n",
              "      <td>0.0</td>\n",
              "      <td>0.00</td>\n",
              "      <td>0.000</td>\n",
              "      <td>0.090</td>\n",
              "      <td>0.077</td>\n",
              "      <td>0.077</td>\n",
              "      <td>0.073</td>\n",
              "      <td>0.067</td>\n",
              "      <td>0.054</td>\n",
              "      <td>0.092</td>\n",
              "      <td>0.085</td>\n",
              "      <td>0.083</td>\n",
              "      <td>0.182</td>\n",
              "      <td>0.098</td>\n",
              "      <td>0.229</td>\n",
              "      <td>0.096</td>\n",
              "      <td>0.113</td>\n",
              "      <td>0.148</td>\n",
              "      <td>0.050</td>\n",
              "      <td>0.045</td>\n",
              "      <td>0.069</td>\n",
              "      <td>0.133</td>\n",
              "      <td>0.131</td>\n",
              "      <td>0.154</td>\n",
              "      <td>0.182</td>\n",
              "      <td>0.096</td>\n",
              "    </tr>\n",
              "    <tr>\n",
              "      <th>3</th>\n",
              "      <td>0.0</td>\n",
              "      <td>0.0</td>\n",
              "      <td>0.0</td>\n",
              "      <td>0.0</td>\n",
              "      <td>0.0</td>\n",
              "      <td>0.0</td>\n",
              "      <td>0.0</td>\n",
              "      <td>0.0</td>\n",
              "      <td>0.0</td>\n",
              "      <td>0.0</td>\n",
              "      <td>0.0</td>\n",
              "      <td>0.0</td>\n",
              "      <td>0.0</td>\n",
              "      <td>0.0</td>\n",
              "      <td>0.0</td>\n",
              "      <td>0.0</td>\n",
              "      <td>0.00</td>\n",
              "      <td>0.090</td>\n",
              "      <td>0.077</td>\n",
              "      <td>0.077</td>\n",
              "      <td>0.073</td>\n",
              "      <td>0.067</td>\n",
              "      <td>0.054</td>\n",
              "      <td>0.092</td>\n",
              "      <td>0.085</td>\n",
              "      <td>0.083</td>\n",
              "      <td>0.182</td>\n",
              "      <td>0.098</td>\n",
              "      <td>0.229</td>\n",
              "      <td>0.096</td>\n",
              "      <td>0.113</td>\n",
              "      <td>0.148</td>\n",
              "      <td>0.050</td>\n",
              "      <td>0.045</td>\n",
              "      <td>0.069</td>\n",
              "      <td>0.133</td>\n",
              "      <td>0.131</td>\n",
              "      <td>0.154</td>\n",
              "      <td>0.182</td>\n",
              "      <td>0.096</td>\n",
              "      <td>0.236</td>\n",
              "    </tr>\n",
              "    <tr>\n",
              "      <th>4</th>\n",
              "      <td>0.0</td>\n",
              "      <td>0.0</td>\n",
              "      <td>0.0</td>\n",
              "      <td>0.0</td>\n",
              "      <td>0.0</td>\n",
              "      <td>0.0</td>\n",
              "      <td>0.0</td>\n",
              "      <td>0.0</td>\n",
              "      <td>0.0</td>\n",
              "      <td>0.0</td>\n",
              "      <td>0.0</td>\n",
              "      <td>0.0</td>\n",
              "      <td>0.0</td>\n",
              "      <td>0.0</td>\n",
              "      <td>0.0</td>\n",
              "      <td>0.0</td>\n",
              "      <td>0.09</td>\n",
              "      <td>0.077</td>\n",
              "      <td>0.077</td>\n",
              "      <td>0.073</td>\n",
              "      <td>0.067</td>\n",
              "      <td>0.054</td>\n",
              "      <td>0.092</td>\n",
              "      <td>0.085</td>\n",
              "      <td>0.083</td>\n",
              "      <td>0.182</td>\n",
              "      <td>0.098</td>\n",
              "      <td>0.229</td>\n",
              "      <td>0.096</td>\n",
              "      <td>0.113</td>\n",
              "      <td>0.148</td>\n",
              "      <td>0.050</td>\n",
              "      <td>0.045</td>\n",
              "      <td>0.069</td>\n",
              "      <td>0.133</td>\n",
              "      <td>0.131</td>\n",
              "      <td>0.154</td>\n",
              "      <td>0.182</td>\n",
              "      <td>0.096</td>\n",
              "      <td>0.236</td>\n",
              "      <td>0.082</td>\n",
              "    </tr>\n",
              "  </tbody>\n",
              "</table>\n",
              "</div>"
            ],
            "text/plain": [
              "    0    1    2    3    4    5   ...     35     36     37     38     39     40\n",
              "0  0.0  0.0  0.0  0.0  0.0  0.0  ...  0.050  0.045  0.069  0.133  0.131  0.154\n",
              "1  0.0  0.0  0.0  0.0  0.0  0.0  ...  0.045  0.069  0.133  0.131  0.154  0.182\n",
              "2  0.0  0.0  0.0  0.0  0.0  0.0  ...  0.069  0.133  0.131  0.154  0.182  0.096\n",
              "3  0.0  0.0  0.0  0.0  0.0  0.0  ...  0.133  0.131  0.154  0.182  0.096  0.236\n",
              "4  0.0  0.0  0.0  0.0  0.0  0.0  ...  0.131  0.154  0.182  0.096  0.236  0.082\n",
              "\n",
              "[5 rows x 41 columns]"
            ]
          },
          "metadata": {
            "tags": []
          },
          "execution_count": 7
        }
      ]
    },
    {
      "cell_type": "code",
      "metadata": {
        "id": "cM2QqSOfJhsS",
        "outputId": "42f2db4c-ad1d-40cd-cc10-07b36c88c146",
        "colab": {
          "base_uri": "https://localhost:8080/",
          "height": 204
        }
      },
      "source": [
        "downloaded = drive.CreateFile({'id':id_train_labels})   # replace the id with id of file you want to access\n",
        "downloaded.GetContentFile('train_labels.csv')  \n",
        "# Dataset is now stored in a Pandas Dataframe\n",
        "train_Y = pd.read_csv('train_labels.csv',header=None)\n",
        "train_Y.head()"
      ],
      "execution_count": null,
      "outputs": [
        {
          "output_type": "execute_result",
          "data": {
            "text/html": [
              "<div>\n",
              "<style scoped>\n",
              "    .dataframe tbody tr th:only-of-type {\n",
              "        vertical-align: middle;\n",
              "    }\n",
              "\n",
              "    .dataframe tbody tr th {\n",
              "        vertical-align: top;\n",
              "    }\n",
              "\n",
              "    .dataframe thead th {\n",
              "        text-align: right;\n",
              "    }\n",
              "</style>\n",
              "<table border=\"1\" class=\"dataframe\">\n",
              "  <thead>\n",
              "    <tr style=\"text-align: right;\">\n",
              "      <th></th>\n",
              "      <th>0</th>\n",
              "    </tr>\n",
              "  </thead>\n",
              "  <tbody>\n",
              "    <tr>\n",
              "      <th>0</th>\n",
              "      <td>1</td>\n",
              "    </tr>\n",
              "    <tr>\n",
              "      <th>1</th>\n",
              "      <td>1</td>\n",
              "    </tr>\n",
              "    <tr>\n",
              "      <th>2</th>\n",
              "      <td>1</td>\n",
              "    </tr>\n",
              "    <tr>\n",
              "      <th>3</th>\n",
              "      <td>1</td>\n",
              "    </tr>\n",
              "    <tr>\n",
              "      <th>4</th>\n",
              "      <td>1</td>\n",
              "    </tr>\n",
              "  </tbody>\n",
              "</table>\n",
              "</div>"
            ],
            "text/plain": [
              "   0\n",
              "0  1\n",
              "1  1\n",
              "2  1\n",
              "3  1\n",
              "4  1"
            ]
          },
          "metadata": {
            "tags": []
          },
          "execution_count": 8
        }
      ]
    },
    {
      "cell_type": "code",
      "metadata": {
        "id": "bEkT13hYJ22M"
      },
      "source": [
        "downloaded = drive.CreateFile({'id':id_test_labels})   # replace the id with id of file you want to access\n",
        "downloaded.GetContentFile('test_labels.csv')  \n",
        "# Dataset is now stored in a Pandas Dataframe\n",
        "test_Y = pd.read_csv('test_labels.csv',header=None)\n",
        "test_Y.head()\n",
        "test_Y = test_Y[5]"
      ],
      "execution_count": null,
      "outputs": []
    },
    {
      "cell_type": "code",
      "metadata": {
        "id": "uQlWqa-los2h",
        "outputId": "f43f66fb-6a01-489e-bc7c-8e301116d37d",
        "colab": {
          "base_uri": "https://localhost:8080/"
        }
      },
      "source": [
        "x = np.array(train_X)\n",
        "y = np.array(train_Y)\n",
        "y = column_or_1d(y, warn=True)\n",
        "x_t = np.array(test_X)\n",
        "y_t = np.array(test_Y)\n",
        "y_t = column_or_1d(y_t, warn=True)\n",
        "print('Shape of training dataset',x.shape)\n",
        "print('Shape of label tensor:', y.shape)\n",
        "print('Shape of test dataset',x_t.shape)\n",
        "print('Shape of test label tensor:', y_t.shape)"
      ],
      "execution_count": null,
      "outputs": [
        {
          "output_type": "stream",
          "text": [
            "Shape of training dataset (10452, 41)\n",
            "Shape of label tensor: (10452,)\n",
            "Shape of test dataset (258829, 41)\n",
            "Shape of test label tensor: (258829,)\n"
          ],
          "name": "stdout"
        },
        {
          "output_type": "stream",
          "text": [
            "/usr/local/lib/python3.6/dist-packages/ipykernel_launcher.py:3: DataConversionWarning: A column-vector y was passed when a 1d array was expected. Please change the shape of y to (n_samples, ), for example using ravel().\n",
            "  This is separate from the ipykernel package so we can avoid doing imports until\n"
          ],
          "name": "stderr"
        }
      ]
    },
    {
      "cell_type": "code",
      "metadata": {
        "id": "O_riY-VIpFWB",
        "outputId": "1f09885d-ed60-4146-8cc5-0909d07f0aa6",
        "colab": {
          "base_uri": "https://localhost:8080/"
        }
      },
      "source": [
        "clf = svm.SVC(probability=True,C=1000,gamma=0.0038)\n",
        "clf.fit(x, y)"
      ],
      "execution_count": null,
      "outputs": [
        {
          "output_type": "execute_result",
          "data": {
            "text/plain": [
              "SVC(C=1000, break_ties=False, cache_size=200, class_weight=None, coef0=0.0,\n",
              "    decision_function_shape='ovr', degree=3, gamma=0.0038, kernel='rbf',\n",
              "    max_iter=-1, probability=True, random_state=None, shrinking=True, tol=0.001,\n",
              "    verbose=False)"
            ]
          },
          "metadata": {
            "tags": []
          },
          "execution_count": 19
        }
      ]
    },
    {
      "cell_type": "code",
      "metadata": {
        "id": "IjWXS2n3nG4a"
      },
      "source": [
        "import numpy as np\n",
        "from sklearn.linear_model import LogisticRegression\n",
        "from sklearn.metrics import roc_curve, auc, roc_auc_score"
      ],
      "execution_count": null,
      "outputs": []
    },
    {
      "cell_type": "code",
      "metadata": {
        "id": "JqzXWTF1sSJA",
        "outputId": "470a70be-38fe-442c-ac31-38f385a5fb7f",
        "colab": {
          "base_uri": "https://localhost:8080/"
        }
      },
      "source": [
        "false_positive_rate, true_positive_rate, thresholds = roc_curve(y_t-1, clf.predict_proba(x_t)[:,1])\n",
        "# may differ\n",
        "print(auc(false_positive_rate, true_positive_rate))\n",
        "print(roc_auc_score(y_t-1, clf.predict(x_t)))"
      ],
      "execution_count": null,
      "outputs": [
        {
          "output_type": "stream",
          "text": [
            "0.7426328857223155\n",
            "0.6847141655107567\n"
          ],
          "name": "stdout"
        }
      ]
    },
    {
      "cell_type": "code",
      "metadata": {
        "id": "8K8LJ-0jw2bi",
        "outputId": "84a3bcb9-7775-461f-c49e-ef4d1d8d443a",
        "colab": {
          "base_uri": "https://localhost:8080/"
        }
      },
      "source": [
        "results = clf.predict(x_t)\n",
        "accuracy_score(y_t, results)"
      ],
      "execution_count": null,
      "outputs": [
        {
          "output_type": "execute_result",
          "data": {
            "text/plain": [
              "0.6970741300240699"
            ]
          },
          "metadata": {
            "tags": []
          },
          "execution_count": 21
        }
      ]
    },
    {
      "cell_type": "code",
      "metadata": {
        "id": "BMER9SqtxY0Y",
        "outputId": "368ecf1f-d0a5-48eb-b3de-297ca1d7578c",
        "colab": {
          "base_uri": "https://localhost:8080/"
        }
      },
      "source": [
        "preds_test = clf.predict_proba(x_t)\n",
        "a = np.zeros(preds_test.shape[0])\n",
        "j = 0\n",
        "for i in preds_test:\n",
        "  a[j] = i[1]\n",
        "  j = j+1\n",
        "a.shape"
      ],
      "execution_count": null,
      "outputs": [
        {
          "output_type": "execute_result",
          "data": {
            "text/plain": [
              "(258829,)"
            ]
          },
          "metadata": {
            "tags": []
          },
          "execution_count": 24
        }
      ]
    },
    {
      "cell_type": "code",
      "metadata": {
        "id": "POctiPfOqqV_",
        "outputId": "312ffba9-227a-4d83-f13e-01023aba0df4",
        "colab": {
          "base_uri": "https://localhost:8080/"
        }
      },
      "source": [
        "from sklearn.metrics import roc_auc_score\n",
        "roc_auc_score(y_t, a)"
      ],
      "execution_count": null,
      "outputs": [
        {
          "output_type": "execute_result",
          "data": {
            "text/plain": [
              "0.7426328857223155"
            ]
          },
          "metadata": {
            "tags": []
          },
          "execution_count": 25
        }
      ]
    },
    {
      "cell_type": "code",
      "metadata": {
        "id": "U4u9P6qBtkL9"
      },
      "source": [
        "incorrects = np.nonzero(results != y_t)"
      ],
      "execution_count": null,
      "outputs": []
    },
    {
      "cell_type": "code",
      "metadata": {
        "id": "ZQiC2-CN1kkn",
        "outputId": "196c9edc-d8e9-44bf-faa5-864b63d7c230",
        "colab": {
          "base_uri": "https://localhost:8080/"
        }
      },
      "source": [
        "incorrect_labels = np.array(y_t)[incorrects] \n",
        "len(incorrect_labels)"
      ],
      "execution_count": null,
      "outputs": [
        {
          "output_type": "execute_result",
          "data": {
            "text/plain": [
              "96556"
            ]
          },
          "metadata": {
            "tags": []
          },
          "execution_count": 27
        }
      ]
    },
    {
      "cell_type": "code",
      "metadata": {
        "id": "n0yPXWIQ5lH7",
        "outputId": "5e3b36c9-0c1d-4e42-a979-655af15ba2a4",
        "colab": {
          "base_uri": "https://localhost:8080/",
          "height": 204
        }
      },
      "source": [
        "incorrect_labels_ = pd.DataFrame(incorrect_labels)\n",
        "incorrect_labels_.head()"
      ],
      "execution_count": null,
      "outputs": [
        {
          "output_type": "execute_result",
          "data": {
            "text/html": [
              "<div>\n",
              "<style scoped>\n",
              "    .dataframe tbody tr th:only-of-type {\n",
              "        vertical-align: middle;\n",
              "    }\n",
              "\n",
              "    .dataframe tbody tr th {\n",
              "        vertical-align: top;\n",
              "    }\n",
              "\n",
              "    .dataframe thead th {\n",
              "        text-align: right;\n",
              "    }\n",
              "</style>\n",
              "<table border=\"1\" class=\"dataframe\">\n",
              "  <thead>\n",
              "    <tr style=\"text-align: right;\">\n",
              "      <th></th>\n",
              "      <th>0</th>\n",
              "    </tr>\n",
              "  </thead>\n",
              "  <tbody>\n",
              "    <tr>\n",
              "      <th>0</th>\n",
              "      <td>2</td>\n",
              "    </tr>\n",
              "    <tr>\n",
              "      <th>1</th>\n",
              "      <td>2</td>\n",
              "    </tr>\n",
              "    <tr>\n",
              "      <th>2</th>\n",
              "      <td>2</td>\n",
              "    </tr>\n",
              "    <tr>\n",
              "      <th>3</th>\n",
              "      <td>2</td>\n",
              "    </tr>\n",
              "    <tr>\n",
              "      <th>4</th>\n",
              "      <td>2</td>\n",
              "    </tr>\n",
              "  </tbody>\n",
              "</table>\n",
              "</div>"
            ],
            "text/plain": [
              "   0\n",
              "0  2\n",
              "1  2\n",
              "2  2\n",
              "3  2\n",
              "4  2"
            ]
          },
          "metadata": {
            "tags": []
          },
          "execution_count": 28
        }
      ]
    },
    {
      "cell_type": "code",
      "metadata": {
        "id": "pjHoA-KB5zqp",
        "outputId": "a954deb3-dc4f-481c-b46c-efb23bdd20e7",
        "colab": {
          "base_uri": "https://localhost:8080/"
        }
      },
      "source": [
        "incorrect_labels_[0].value_counts()"
      ],
      "execution_count": null,
      "outputs": [
        {
          "output_type": "execute_result",
          "data": {
            "text/plain": [
              "2    94517\n",
              "1     2039\n",
              "Name: 0, dtype: int64"
            ]
          },
          "metadata": {
            "tags": []
          },
          "execution_count": 30
        }
      ]
    },
    {
      "cell_type": "code",
      "metadata": {
        "id": "6xAJzIMv6kSf",
        "outputId": "8a1b120f-5f3b-4f2d-ff1b-6a0ab169a19f",
        "colab": {
          "base_uri": "https://localhost:8080/"
        }
      },
      "source": [
        "test_Y.value_counts()"
      ],
      "execution_count": null,
      "outputs": [
        {
          "output_type": "execute_result",
          "data": {
            "text/plain": [
              "2    253676\n",
              "1      5153\n",
              "Name: 5, dtype: int64"
            ]
          },
          "metadata": {
            "tags": []
          },
          "execution_count": 31
        }
      ]
    },
    {
      "cell_type": "code",
      "metadata": {
        "id": "IQBkcyJ96xBK",
        "outputId": "752d43a9-3ad6-4224-8aed-65f16cb9665e",
        "colab": {
          "base_uri": "https://localhost:8080/"
        }
      },
      "source": [
        "len(incorrect_labels)"
      ],
      "execution_count": null,
      "outputs": [
        {
          "output_type": "execute_result",
          "data": {
            "text/plain": [
              "96556"
            ]
          },
          "metadata": {
            "tags": []
          },
          "execution_count": 32
        }
      ]
    },
    {
      "cell_type": "code",
      "metadata": {
        "id": "hDjLEEk-7CVN",
        "outputId": "0f17791e-b6db-4519-a901-fb722e76d526",
        "colab": {
          "base_uri": "https://localhost:8080/"
        }
      },
      "source": [
        "results_train = clf.predict(x)\n",
        "accuracy_score(y, results_train)"
      ],
      "execution_count": null,
      "outputs": [
        {
          "output_type": "execute_result",
          "data": {
            "text/plain": [
              "0.6214121699196326"
            ]
          },
          "metadata": {
            "tags": []
          },
          "execution_count": 20
        }
      ]
    },
    {
      "cell_type": "code",
      "metadata": {
        "id": "TQ3Al8or7UUf",
        "outputId": "ccdfe3ae-98ae-401b-bdb4-6922609352e8",
        "colab": {
          "base_uri": "https://localhost:8080/",
          "height": 204
        }
      },
      "source": [
        "incorrects_tr = np.nonzero(results_train != y)\n",
        "incorrect_labels_tr = np.array(y)[incorrects_tr] \n",
        "len(incorrect_labels_tr)\n",
        "incorrect_labels_tr_ = pd.DataFrame(incorrect_labels_tr)\n",
        "incorrect_labels_tr_.head()"
      ],
      "execution_count": null,
      "outputs": [
        {
          "output_type": "execute_result",
          "data": {
            "text/html": [
              "<div>\n",
              "<style scoped>\n",
              "    .dataframe tbody tr th:only-of-type {\n",
              "        vertical-align: middle;\n",
              "    }\n",
              "\n",
              "    .dataframe tbody tr th {\n",
              "        vertical-align: top;\n",
              "    }\n",
              "\n",
              "    .dataframe thead th {\n",
              "        text-align: right;\n",
              "    }\n",
              "</style>\n",
              "<table border=\"1\" class=\"dataframe\">\n",
              "  <thead>\n",
              "    <tr style=\"text-align: right;\">\n",
              "      <th></th>\n",
              "      <th>0</th>\n",
              "    </tr>\n",
              "  </thead>\n",
              "  <tbody>\n",
              "    <tr>\n",
              "      <th>0</th>\n",
              "      <td>1</td>\n",
              "    </tr>\n",
              "    <tr>\n",
              "      <th>1</th>\n",
              "      <td>1</td>\n",
              "    </tr>\n",
              "    <tr>\n",
              "      <th>2</th>\n",
              "      <td>1</td>\n",
              "    </tr>\n",
              "    <tr>\n",
              "      <th>3</th>\n",
              "      <td>1</td>\n",
              "    </tr>\n",
              "    <tr>\n",
              "      <th>4</th>\n",
              "      <td>1</td>\n",
              "    </tr>\n",
              "  </tbody>\n",
              "</table>\n",
              "</div>"
            ],
            "text/plain": [
              "   0\n",
              "0  1\n",
              "1  1\n",
              "2  1\n",
              "3  1\n",
              "4  1"
            ]
          },
          "metadata": {
            "tags": []
          },
          "execution_count": 34
        }
      ]
    },
    {
      "cell_type": "code",
      "metadata": {
        "id": "Xz1zJvOH7-oS",
        "outputId": "8fc3cc0e-a4cb-42a2-b358-c3374954c604",
        "colab": {
          "base_uri": "https://localhost:8080/"
        }
      },
      "source": [
        "incorrect_labels_tr_[0].value_counts()"
      ],
      "execution_count": null,
      "outputs": [
        {
          "output_type": "execute_result",
          "data": {
            "text/plain": [
              "2    1415\n",
              "1     849\n",
              "Name: 0, dtype: int64"
            ]
          },
          "metadata": {
            "tags": []
          },
          "execution_count": 35
        }
      ]
    },
    {
      "cell_type": "code",
      "metadata": {
        "id": "b-6CiQF28Ex8"
      },
      "source": [
        ""
      ],
      "execution_count": null,
      "outputs": []
    }
  ]
}