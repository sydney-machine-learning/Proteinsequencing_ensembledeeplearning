{
  "nbformat": 4,
  "nbformat_minor": 0,
  "metadata": {
    "colab": {
      "name": "CNN-LSTM_MORFs.ipynb",
      "provenance": []
    },
    "kernelspec": {
      "name": "python3",
      "display_name": "Python 3"
    }
  },
  "cells": [
    {
      "cell_type": "code",
      "metadata": {
        "id": "VB2NpvRoC2Qf",
        "colab_type": "code",
        "colab": {}
      },
      "source": [
        "# Code to read csv file into Colaboratory:\n",
        "!pip install -U -q PyDrive\n",
        "import pandas as pd\n",
        "import numpy as np\n",
        "from pydrive.auth import GoogleAuth\n",
        "from pydrive.drive import GoogleDrive\n",
        "from google.colab import auth\n",
        "from oauth2client.client import GoogleCredentials\n",
        "import tensorflow as tf\n",
        "from tensorflow import keras\n",
        "from tensorflow.keras import utils\n",
        "from keras.utils import to_categorical\n",
        "from keras.models import Sequential\n",
        "from keras.layers import Dense\n",
        "from keras.layers import LSTM\n",
        "from keras.layers import Dropout\n",
        "from keras.preprocessing.sequence import pad_sequences"
      ],
      "execution_count": 29,
      "outputs": []
    },
    {
      "cell_type": "code",
      "metadata": {
        "id": "cAhtXU0jWj6Q",
        "colab_type": "code",
        "colab": {}
      },
      "source": [
        "# Authenticate and create the PyDrive client.\n",
        "auth.authenticate_user()\n",
        "gauth = GoogleAuth()\n",
        "gauth.credentials = GoogleCredentials.get_application_default()\n",
        "drive = GoogleDrive(gauth)"
      ],
      "execution_count": 28,
      "outputs": []
    },
    {
      "cell_type": "code",
      "metadata": {
        "id": "R89tdtrXO84x",
        "colab_type": "code",
        "colab": {}
      },
      "source": [
        "id_train_features = '1LnKdehYxXYXIUhxO1NFeu5GebmKpbYjY'\n",
        "id_test_features = '1CIuprbEUeJDEdg0WO5Sq2-xV8OBElXLX'\n",
        "id_train_labels = '1dzgH430IP8VV4Jw6InbfTiMEFUxZk1pO'\n",
        "id_test_labels = '10dwdJ5EI_w-HfeM3F8CyctlqAnuW3RY9'"
      ],
      "execution_count": 26,
      "outputs": []
    },
    {
      "cell_type": "code",
      "metadata": {
        "id": "H_RlSVSEPq12",
        "colab_type": "code",
        "colab": {
          "base_uri": "https://localhost:8080/",
          "height": 224
        },
        "outputId": "b67ce233-2e7b-4aaf-9091-d0cac05c6ef5"
      },
      "source": [
        "downloaded = drive.CreateFile({'id':id_train_features})   # replace the id with id of file you want to access\n",
        "downloaded.GetContentFile('train_features.csv')  \n",
        "# Dataset is now stored in a Pandas Dataframe\n",
        "train_X = pd.read_csv('train_features.csv',header=None)\n",
        "train_X.head()"
      ],
      "execution_count": 30,
      "outputs": [
        {
          "output_type": "execute_result",
          "data": {
            "text/html": [
              "<div>\n",
              "<style scoped>\n",
              "    .dataframe tbody tr th:only-of-type {\n",
              "        vertical-align: middle;\n",
              "    }\n",
              "\n",
              "    .dataframe tbody tr th {\n",
              "        vertical-align: top;\n",
              "    }\n",
              "\n",
              "    .dataframe thead th {\n",
              "        text-align: right;\n",
              "    }\n",
              "</style>\n",
              "<table border=\"1\" class=\"dataframe\">\n",
              "  <thead>\n",
              "    <tr style=\"text-align: right;\">\n",
              "      <th></th>\n",
              "      <th>0</th>\n",
              "      <th>1</th>\n",
              "      <th>2</th>\n",
              "      <th>3</th>\n",
              "      <th>4</th>\n",
              "      <th>5</th>\n",
              "      <th>6</th>\n",
              "      <th>7</th>\n",
              "      <th>8</th>\n",
              "      <th>9</th>\n",
              "      <th>10</th>\n",
              "      <th>11</th>\n",
              "      <th>12</th>\n",
              "      <th>13</th>\n",
              "      <th>14</th>\n",
              "      <th>15</th>\n",
              "      <th>16</th>\n",
              "      <th>17</th>\n",
              "      <th>18</th>\n",
              "      <th>19</th>\n",
              "      <th>20</th>\n",
              "      <th>21</th>\n",
              "      <th>22</th>\n",
              "      <th>23</th>\n",
              "      <th>24</th>\n",
              "      <th>25</th>\n",
              "      <th>26</th>\n",
              "      <th>27</th>\n",
              "      <th>28</th>\n",
              "      <th>29</th>\n",
              "      <th>30</th>\n",
              "      <th>31</th>\n",
              "      <th>32</th>\n",
              "      <th>33</th>\n",
              "      <th>34</th>\n",
              "      <th>35</th>\n",
              "      <th>36</th>\n",
              "      <th>37</th>\n",
              "      <th>38</th>\n",
              "      <th>39</th>\n",
              "      <th>40</th>\n",
              "    </tr>\n",
              "  </thead>\n",
              "  <tbody>\n",
              "    <tr>\n",
              "      <th>0</th>\n",
              "      <td>0.087</td>\n",
              "      <td>0.106</td>\n",
              "      <td>0.059</td>\n",
              "      <td>0.170</td>\n",
              "      <td>0.084</td>\n",
              "      <td>0.090</td>\n",
              "      <td>0.052</td>\n",
              "      <td>0.153</td>\n",
              "      <td>0.159</td>\n",
              "      <td>0.049</td>\n",
              "      <td>0.086</td>\n",
              "      <td>0.055</td>\n",
              "      <td>0.080</td>\n",
              "      <td>0.052</td>\n",
              "      <td>0.098</td>\n",
              "      <td>0.038</td>\n",
              "      <td>0.059</td>\n",
              "      <td>0.177</td>\n",
              "      <td>0.047</td>\n",
              "      <td>0.046</td>\n",
              "      <td>0.205</td>\n",
              "      <td>0.090</td>\n",
              "      <td>0.127</td>\n",
              "      <td>0.181</td>\n",
              "      <td>0.171</td>\n",
              "      <td>0.106</td>\n",
              "      <td>0.193</td>\n",
              "      <td>0.059</td>\n",
              "      <td>0.082</td>\n",
              "      <td>0.205</td>\n",
              "      <td>0.079</td>\n",
              "      <td>0.066</td>\n",
              "      <td>0.101</td>\n",
              "      <td>0.061</td>\n",
              "      <td>0.126</td>\n",
              "      <td>0.165</td>\n",
              "      <td>0.075</td>\n",
              "      <td>0.165</td>\n",
              "      <td>0.199</td>\n",
              "      <td>0.056</td>\n",
              "      <td>0.072</td>\n",
              "    </tr>\n",
              "    <tr>\n",
              "      <th>1</th>\n",
              "      <td>0.106</td>\n",
              "      <td>0.059</td>\n",
              "      <td>0.170</td>\n",
              "      <td>0.084</td>\n",
              "      <td>0.090</td>\n",
              "      <td>0.052</td>\n",
              "      <td>0.153</td>\n",
              "      <td>0.159</td>\n",
              "      <td>0.049</td>\n",
              "      <td>0.086</td>\n",
              "      <td>0.055</td>\n",
              "      <td>0.080</td>\n",
              "      <td>0.052</td>\n",
              "      <td>0.098</td>\n",
              "      <td>0.038</td>\n",
              "      <td>0.059</td>\n",
              "      <td>0.177</td>\n",
              "      <td>0.047</td>\n",
              "      <td>0.046</td>\n",
              "      <td>0.205</td>\n",
              "      <td>0.090</td>\n",
              "      <td>0.127</td>\n",
              "      <td>0.181</td>\n",
              "      <td>0.171</td>\n",
              "      <td>0.106</td>\n",
              "      <td>0.193</td>\n",
              "      <td>0.059</td>\n",
              "      <td>0.082</td>\n",
              "      <td>0.205</td>\n",
              "      <td>0.079</td>\n",
              "      <td>0.066</td>\n",
              "      <td>0.101</td>\n",
              "      <td>0.061</td>\n",
              "      <td>0.126</td>\n",
              "      <td>0.165</td>\n",
              "      <td>0.075</td>\n",
              "      <td>0.165</td>\n",
              "      <td>0.199</td>\n",
              "      <td>0.056</td>\n",
              "      <td>0.072</td>\n",
              "      <td>0.228</td>\n",
              "    </tr>\n",
              "    <tr>\n",
              "      <th>2</th>\n",
              "      <td>0.059</td>\n",
              "      <td>0.170</td>\n",
              "      <td>0.084</td>\n",
              "      <td>0.090</td>\n",
              "      <td>0.052</td>\n",
              "      <td>0.153</td>\n",
              "      <td>0.159</td>\n",
              "      <td>0.049</td>\n",
              "      <td>0.086</td>\n",
              "      <td>0.055</td>\n",
              "      <td>0.080</td>\n",
              "      <td>0.052</td>\n",
              "      <td>0.098</td>\n",
              "      <td>0.038</td>\n",
              "      <td>0.059</td>\n",
              "      <td>0.177</td>\n",
              "      <td>0.047</td>\n",
              "      <td>0.046</td>\n",
              "      <td>0.205</td>\n",
              "      <td>0.090</td>\n",
              "      <td>0.127</td>\n",
              "      <td>0.181</td>\n",
              "      <td>0.171</td>\n",
              "      <td>0.106</td>\n",
              "      <td>0.193</td>\n",
              "      <td>0.059</td>\n",
              "      <td>0.082</td>\n",
              "      <td>0.205</td>\n",
              "      <td>0.079</td>\n",
              "      <td>0.066</td>\n",
              "      <td>0.101</td>\n",
              "      <td>0.061</td>\n",
              "      <td>0.126</td>\n",
              "      <td>0.165</td>\n",
              "      <td>0.075</td>\n",
              "      <td>0.165</td>\n",
              "      <td>0.199</td>\n",
              "      <td>0.056</td>\n",
              "      <td>0.072</td>\n",
              "      <td>0.228</td>\n",
              "      <td>0.123</td>\n",
              "    </tr>\n",
              "    <tr>\n",
              "      <th>3</th>\n",
              "      <td>0.170</td>\n",
              "      <td>0.084</td>\n",
              "      <td>0.090</td>\n",
              "      <td>0.052</td>\n",
              "      <td>0.153</td>\n",
              "      <td>0.159</td>\n",
              "      <td>0.049</td>\n",
              "      <td>0.086</td>\n",
              "      <td>0.055</td>\n",
              "      <td>0.080</td>\n",
              "      <td>0.052</td>\n",
              "      <td>0.098</td>\n",
              "      <td>0.038</td>\n",
              "      <td>0.059</td>\n",
              "      <td>0.177</td>\n",
              "      <td>0.047</td>\n",
              "      <td>0.046</td>\n",
              "      <td>0.205</td>\n",
              "      <td>0.090</td>\n",
              "      <td>0.127</td>\n",
              "      <td>0.181</td>\n",
              "      <td>0.171</td>\n",
              "      <td>0.106</td>\n",
              "      <td>0.193</td>\n",
              "      <td>0.059</td>\n",
              "      <td>0.082</td>\n",
              "      <td>0.205</td>\n",
              "      <td>0.079</td>\n",
              "      <td>0.066</td>\n",
              "      <td>0.101</td>\n",
              "      <td>0.061</td>\n",
              "      <td>0.126</td>\n",
              "      <td>0.165</td>\n",
              "      <td>0.075</td>\n",
              "      <td>0.165</td>\n",
              "      <td>0.199</td>\n",
              "      <td>0.056</td>\n",
              "      <td>0.072</td>\n",
              "      <td>0.228</td>\n",
              "      <td>0.123</td>\n",
              "      <td>0.019</td>\n",
              "    </tr>\n",
              "    <tr>\n",
              "      <th>4</th>\n",
              "      <td>0.084</td>\n",
              "      <td>0.090</td>\n",
              "      <td>0.052</td>\n",
              "      <td>0.153</td>\n",
              "      <td>0.159</td>\n",
              "      <td>0.049</td>\n",
              "      <td>0.086</td>\n",
              "      <td>0.055</td>\n",
              "      <td>0.080</td>\n",
              "      <td>0.052</td>\n",
              "      <td>0.098</td>\n",
              "      <td>0.038</td>\n",
              "      <td>0.059</td>\n",
              "      <td>0.177</td>\n",
              "      <td>0.047</td>\n",
              "      <td>0.046</td>\n",
              "      <td>0.205</td>\n",
              "      <td>0.090</td>\n",
              "      <td>0.127</td>\n",
              "      <td>0.181</td>\n",
              "      <td>0.171</td>\n",
              "      <td>0.106</td>\n",
              "      <td>0.193</td>\n",
              "      <td>0.059</td>\n",
              "      <td>0.082</td>\n",
              "      <td>0.205</td>\n",
              "      <td>0.079</td>\n",
              "      <td>0.066</td>\n",
              "      <td>0.101</td>\n",
              "      <td>0.061</td>\n",
              "      <td>0.126</td>\n",
              "      <td>0.165</td>\n",
              "      <td>0.075</td>\n",
              "      <td>0.165</td>\n",
              "      <td>0.199</td>\n",
              "      <td>0.056</td>\n",
              "      <td>0.072</td>\n",
              "      <td>0.228</td>\n",
              "      <td>0.123</td>\n",
              "      <td>0.019</td>\n",
              "      <td>0.123</td>\n",
              "    </tr>\n",
              "  </tbody>\n",
              "</table>\n",
              "</div>"
            ],
            "text/plain": [
              "      0      1      2      3      4   ...     36     37     38     39     40\n",
              "0  0.087  0.106  0.059  0.170  0.084  ...  0.075  0.165  0.199  0.056  0.072\n",
              "1  0.106  0.059  0.170  0.084  0.090  ...  0.165  0.199  0.056  0.072  0.228\n",
              "2  0.059  0.170  0.084  0.090  0.052  ...  0.199  0.056  0.072  0.228  0.123\n",
              "3  0.170  0.084  0.090  0.052  0.153  ...  0.056  0.072  0.228  0.123  0.019\n",
              "4  0.084  0.090  0.052  0.153  0.159  ...  0.072  0.228  0.123  0.019  0.123\n",
              "\n",
              "[5 rows x 41 columns]"
            ]
          },
          "metadata": {
            "tags": []
          },
          "execution_count": 30
        }
      ]
    },
    {
      "cell_type": "code",
      "metadata": {
        "id": "neMvuslWPvc4",
        "colab_type": "code",
        "colab": {
          "base_uri": "https://localhost:8080/",
          "height": 224
        },
        "outputId": "7a11ef57-d668-480c-cab3-4e981e95f336"
      },
      "source": [
        "downloaded = drive.CreateFile({'id':id_test_features})   # replace the id with id of file you want to access\n",
        "downloaded.GetContentFile('test_features.csv')  \n",
        "# Dataset is now stored in a Pandas Dataframe\n",
        "test_X = pd.read_csv('test_features.csv',header=None)\n",
        "test_X.head()"
      ],
      "execution_count": 5,
      "outputs": [
        {
          "output_type": "execute_result",
          "data": {
            "text/html": [
              "<div>\n",
              "<style scoped>\n",
              "    .dataframe tbody tr th:only-of-type {\n",
              "        vertical-align: middle;\n",
              "    }\n",
              "\n",
              "    .dataframe tbody tr th {\n",
              "        vertical-align: top;\n",
              "    }\n",
              "\n",
              "    .dataframe thead th {\n",
              "        text-align: right;\n",
              "    }\n",
              "</style>\n",
              "<table border=\"1\" class=\"dataframe\">\n",
              "  <thead>\n",
              "    <tr style=\"text-align: right;\">\n",
              "      <th></th>\n",
              "      <th>0</th>\n",
              "      <th>1</th>\n",
              "      <th>2</th>\n",
              "      <th>3</th>\n",
              "      <th>4</th>\n",
              "      <th>5</th>\n",
              "      <th>6</th>\n",
              "      <th>7</th>\n",
              "      <th>8</th>\n",
              "      <th>9</th>\n",
              "      <th>10</th>\n",
              "      <th>11</th>\n",
              "      <th>12</th>\n",
              "      <th>13</th>\n",
              "      <th>14</th>\n",
              "      <th>15</th>\n",
              "      <th>16</th>\n",
              "      <th>17</th>\n",
              "      <th>18</th>\n",
              "      <th>19</th>\n",
              "      <th>20</th>\n",
              "      <th>21</th>\n",
              "      <th>22</th>\n",
              "      <th>23</th>\n",
              "      <th>24</th>\n",
              "      <th>25</th>\n",
              "      <th>26</th>\n",
              "      <th>27</th>\n",
              "      <th>28</th>\n",
              "      <th>29</th>\n",
              "      <th>30</th>\n",
              "      <th>31</th>\n",
              "      <th>32</th>\n",
              "      <th>33</th>\n",
              "      <th>34</th>\n",
              "      <th>35</th>\n",
              "      <th>36</th>\n",
              "      <th>37</th>\n",
              "      <th>38</th>\n",
              "      <th>39</th>\n",
              "      <th>40</th>\n",
              "    </tr>\n",
              "  </thead>\n",
              "  <tbody>\n",
              "    <tr>\n",
              "      <th>0</th>\n",
              "      <td>0.0</td>\n",
              "      <td>0.0</td>\n",
              "      <td>0.0</td>\n",
              "      <td>0.0</td>\n",
              "      <td>0.0</td>\n",
              "      <td>0.0</td>\n",
              "      <td>0.0</td>\n",
              "      <td>0.0</td>\n",
              "      <td>0.0</td>\n",
              "      <td>0.0</td>\n",
              "      <td>0.0</td>\n",
              "      <td>0.0</td>\n",
              "      <td>0.0</td>\n",
              "      <td>0.0</td>\n",
              "      <td>0.0</td>\n",
              "      <td>0.0</td>\n",
              "      <td>0.00</td>\n",
              "      <td>0.000</td>\n",
              "      <td>0.000</td>\n",
              "      <td>0.000</td>\n",
              "      <td>0.090</td>\n",
              "      <td>0.077</td>\n",
              "      <td>0.077</td>\n",
              "      <td>0.073</td>\n",
              "      <td>0.067</td>\n",
              "      <td>0.054</td>\n",
              "      <td>0.092</td>\n",
              "      <td>0.085</td>\n",
              "      <td>0.083</td>\n",
              "      <td>0.182</td>\n",
              "      <td>0.098</td>\n",
              "      <td>0.229</td>\n",
              "      <td>0.096</td>\n",
              "      <td>0.113</td>\n",
              "      <td>0.148</td>\n",
              "      <td>0.050</td>\n",
              "      <td>0.045</td>\n",
              "      <td>0.069</td>\n",
              "      <td>0.133</td>\n",
              "      <td>0.131</td>\n",
              "      <td>0.154</td>\n",
              "    </tr>\n",
              "    <tr>\n",
              "      <th>1</th>\n",
              "      <td>0.0</td>\n",
              "      <td>0.0</td>\n",
              "      <td>0.0</td>\n",
              "      <td>0.0</td>\n",
              "      <td>0.0</td>\n",
              "      <td>0.0</td>\n",
              "      <td>0.0</td>\n",
              "      <td>0.0</td>\n",
              "      <td>0.0</td>\n",
              "      <td>0.0</td>\n",
              "      <td>0.0</td>\n",
              "      <td>0.0</td>\n",
              "      <td>0.0</td>\n",
              "      <td>0.0</td>\n",
              "      <td>0.0</td>\n",
              "      <td>0.0</td>\n",
              "      <td>0.00</td>\n",
              "      <td>0.000</td>\n",
              "      <td>0.000</td>\n",
              "      <td>0.090</td>\n",
              "      <td>0.077</td>\n",
              "      <td>0.077</td>\n",
              "      <td>0.073</td>\n",
              "      <td>0.067</td>\n",
              "      <td>0.054</td>\n",
              "      <td>0.092</td>\n",
              "      <td>0.085</td>\n",
              "      <td>0.083</td>\n",
              "      <td>0.182</td>\n",
              "      <td>0.098</td>\n",
              "      <td>0.229</td>\n",
              "      <td>0.096</td>\n",
              "      <td>0.113</td>\n",
              "      <td>0.148</td>\n",
              "      <td>0.050</td>\n",
              "      <td>0.045</td>\n",
              "      <td>0.069</td>\n",
              "      <td>0.133</td>\n",
              "      <td>0.131</td>\n",
              "      <td>0.154</td>\n",
              "      <td>0.182</td>\n",
              "    </tr>\n",
              "    <tr>\n",
              "      <th>2</th>\n",
              "      <td>0.0</td>\n",
              "      <td>0.0</td>\n",
              "      <td>0.0</td>\n",
              "      <td>0.0</td>\n",
              "      <td>0.0</td>\n",
              "      <td>0.0</td>\n",
              "      <td>0.0</td>\n",
              "      <td>0.0</td>\n",
              "      <td>0.0</td>\n",
              "      <td>0.0</td>\n",
              "      <td>0.0</td>\n",
              "      <td>0.0</td>\n",
              "      <td>0.0</td>\n",
              "      <td>0.0</td>\n",
              "      <td>0.0</td>\n",
              "      <td>0.0</td>\n",
              "      <td>0.00</td>\n",
              "      <td>0.000</td>\n",
              "      <td>0.090</td>\n",
              "      <td>0.077</td>\n",
              "      <td>0.077</td>\n",
              "      <td>0.073</td>\n",
              "      <td>0.067</td>\n",
              "      <td>0.054</td>\n",
              "      <td>0.092</td>\n",
              "      <td>0.085</td>\n",
              "      <td>0.083</td>\n",
              "      <td>0.182</td>\n",
              "      <td>0.098</td>\n",
              "      <td>0.229</td>\n",
              "      <td>0.096</td>\n",
              "      <td>0.113</td>\n",
              "      <td>0.148</td>\n",
              "      <td>0.050</td>\n",
              "      <td>0.045</td>\n",
              "      <td>0.069</td>\n",
              "      <td>0.133</td>\n",
              "      <td>0.131</td>\n",
              "      <td>0.154</td>\n",
              "      <td>0.182</td>\n",
              "      <td>0.096</td>\n",
              "    </tr>\n",
              "    <tr>\n",
              "      <th>3</th>\n",
              "      <td>0.0</td>\n",
              "      <td>0.0</td>\n",
              "      <td>0.0</td>\n",
              "      <td>0.0</td>\n",
              "      <td>0.0</td>\n",
              "      <td>0.0</td>\n",
              "      <td>0.0</td>\n",
              "      <td>0.0</td>\n",
              "      <td>0.0</td>\n",
              "      <td>0.0</td>\n",
              "      <td>0.0</td>\n",
              "      <td>0.0</td>\n",
              "      <td>0.0</td>\n",
              "      <td>0.0</td>\n",
              "      <td>0.0</td>\n",
              "      <td>0.0</td>\n",
              "      <td>0.00</td>\n",
              "      <td>0.090</td>\n",
              "      <td>0.077</td>\n",
              "      <td>0.077</td>\n",
              "      <td>0.073</td>\n",
              "      <td>0.067</td>\n",
              "      <td>0.054</td>\n",
              "      <td>0.092</td>\n",
              "      <td>0.085</td>\n",
              "      <td>0.083</td>\n",
              "      <td>0.182</td>\n",
              "      <td>0.098</td>\n",
              "      <td>0.229</td>\n",
              "      <td>0.096</td>\n",
              "      <td>0.113</td>\n",
              "      <td>0.148</td>\n",
              "      <td>0.050</td>\n",
              "      <td>0.045</td>\n",
              "      <td>0.069</td>\n",
              "      <td>0.133</td>\n",
              "      <td>0.131</td>\n",
              "      <td>0.154</td>\n",
              "      <td>0.182</td>\n",
              "      <td>0.096</td>\n",
              "      <td>0.236</td>\n",
              "    </tr>\n",
              "    <tr>\n",
              "      <th>4</th>\n",
              "      <td>0.0</td>\n",
              "      <td>0.0</td>\n",
              "      <td>0.0</td>\n",
              "      <td>0.0</td>\n",
              "      <td>0.0</td>\n",
              "      <td>0.0</td>\n",
              "      <td>0.0</td>\n",
              "      <td>0.0</td>\n",
              "      <td>0.0</td>\n",
              "      <td>0.0</td>\n",
              "      <td>0.0</td>\n",
              "      <td>0.0</td>\n",
              "      <td>0.0</td>\n",
              "      <td>0.0</td>\n",
              "      <td>0.0</td>\n",
              "      <td>0.0</td>\n",
              "      <td>0.09</td>\n",
              "      <td>0.077</td>\n",
              "      <td>0.077</td>\n",
              "      <td>0.073</td>\n",
              "      <td>0.067</td>\n",
              "      <td>0.054</td>\n",
              "      <td>0.092</td>\n",
              "      <td>0.085</td>\n",
              "      <td>0.083</td>\n",
              "      <td>0.182</td>\n",
              "      <td>0.098</td>\n",
              "      <td>0.229</td>\n",
              "      <td>0.096</td>\n",
              "      <td>0.113</td>\n",
              "      <td>0.148</td>\n",
              "      <td>0.050</td>\n",
              "      <td>0.045</td>\n",
              "      <td>0.069</td>\n",
              "      <td>0.133</td>\n",
              "      <td>0.131</td>\n",
              "      <td>0.154</td>\n",
              "      <td>0.182</td>\n",
              "      <td>0.096</td>\n",
              "      <td>0.236</td>\n",
              "      <td>0.082</td>\n",
              "    </tr>\n",
              "  </tbody>\n",
              "</table>\n",
              "</div>"
            ],
            "text/plain": [
              "    0    1    2    3    4    5   ...     35     36     37     38     39     40\n",
              "0  0.0  0.0  0.0  0.0  0.0  0.0  ...  0.050  0.045  0.069  0.133  0.131  0.154\n",
              "1  0.0  0.0  0.0  0.0  0.0  0.0  ...  0.045  0.069  0.133  0.131  0.154  0.182\n",
              "2  0.0  0.0  0.0  0.0  0.0  0.0  ...  0.069  0.133  0.131  0.154  0.182  0.096\n",
              "3  0.0  0.0  0.0  0.0  0.0  0.0  ...  0.133  0.131  0.154  0.182  0.096  0.236\n",
              "4  0.0  0.0  0.0  0.0  0.0  0.0  ...  0.131  0.154  0.182  0.096  0.236  0.082\n",
              "\n",
              "[5 rows x 41 columns]"
            ]
          },
          "metadata": {
            "tags": []
          },
          "execution_count": 5
        }
      ]
    },
    {
      "cell_type": "code",
      "metadata": {
        "id": "cM2QqSOfJhsS",
        "colab_type": "code",
        "colab": {
          "base_uri": "https://localhost:8080/",
          "height": 204
        },
        "outputId": "538a77c7-1469-4784-d4f9-65a335aaccdf"
      },
      "source": [
        "downloaded = drive.CreateFile({'id':id_train_labels})   # replace the id with id of file you want to access\n",
        "downloaded.GetContentFile('train_labels.csv')  \n",
        "# Dataset is now stored in a Pandas Dataframe\n",
        "train_Y = pd.read_csv('train_labels.csv',header=None)\n",
        "train_Y.head()"
      ],
      "execution_count": 6,
      "outputs": [
        {
          "output_type": "execute_result",
          "data": {
            "text/html": [
              "<div>\n",
              "<style scoped>\n",
              "    .dataframe tbody tr th:only-of-type {\n",
              "        vertical-align: middle;\n",
              "    }\n",
              "\n",
              "    .dataframe tbody tr th {\n",
              "        vertical-align: top;\n",
              "    }\n",
              "\n",
              "    .dataframe thead th {\n",
              "        text-align: right;\n",
              "    }\n",
              "</style>\n",
              "<table border=\"1\" class=\"dataframe\">\n",
              "  <thead>\n",
              "    <tr style=\"text-align: right;\">\n",
              "      <th></th>\n",
              "      <th>0</th>\n",
              "    </tr>\n",
              "  </thead>\n",
              "  <tbody>\n",
              "    <tr>\n",
              "      <th>0</th>\n",
              "      <td>1</td>\n",
              "    </tr>\n",
              "    <tr>\n",
              "      <th>1</th>\n",
              "      <td>1</td>\n",
              "    </tr>\n",
              "    <tr>\n",
              "      <th>2</th>\n",
              "      <td>1</td>\n",
              "    </tr>\n",
              "    <tr>\n",
              "      <th>3</th>\n",
              "      <td>1</td>\n",
              "    </tr>\n",
              "    <tr>\n",
              "      <th>4</th>\n",
              "      <td>1</td>\n",
              "    </tr>\n",
              "  </tbody>\n",
              "</table>\n",
              "</div>"
            ],
            "text/plain": [
              "   0\n",
              "0  1\n",
              "1  1\n",
              "2  1\n",
              "3  1\n",
              "4  1"
            ]
          },
          "metadata": {
            "tags": []
          },
          "execution_count": 6
        }
      ]
    },
    {
      "cell_type": "code",
      "metadata": {
        "id": "bEkT13hYJ22M",
        "colab_type": "code",
        "colab": {
          "base_uri": "https://localhost:8080/",
          "height": 204
        },
        "outputId": "dd1374be-7c0e-41f0-c83b-b2582540e68a"
      },
      "source": [
        "downloaded = drive.CreateFile({'id':id_test_labels})   # replace the id with id of file you want to access\n",
        "downloaded.GetContentFile('test_labels.csv')  \n",
        "# Dataset is now stored in a Pandas Dataframe\n",
        "test_Y = pd.read_csv('test_labels.csv',header=None)\n",
        "test_Y.head()"
      ],
      "execution_count": 7,
      "outputs": [
        {
          "output_type": "execute_result",
          "data": {
            "text/html": [
              "<div>\n",
              "<style scoped>\n",
              "    .dataframe tbody tr th:only-of-type {\n",
              "        vertical-align: middle;\n",
              "    }\n",
              "\n",
              "    .dataframe tbody tr th {\n",
              "        vertical-align: top;\n",
              "    }\n",
              "\n",
              "    .dataframe thead th {\n",
              "        text-align: right;\n",
              "    }\n",
              "</style>\n",
              "<table border=\"1\" class=\"dataframe\">\n",
              "  <thead>\n",
              "    <tr style=\"text-align: right;\">\n",
              "      <th></th>\n",
              "      <th>0</th>\n",
              "      <th>1</th>\n",
              "      <th>2</th>\n",
              "      <th>3</th>\n",
              "      <th>4</th>\n",
              "      <th>5</th>\n",
              "    </tr>\n",
              "  </thead>\n",
              "  <tbody>\n",
              "    <tr>\n",
              "      <th>0</th>\n",
              "      <td>c</td>\n",
              "      <td>l</td>\n",
              "      <td>a</td>\n",
              "      <td>s</td>\n",
              "      <td>s</td>\n",
              "      <td>2</td>\n",
              "    </tr>\n",
              "    <tr>\n",
              "      <th>1</th>\n",
              "      <td>c</td>\n",
              "      <td>l</td>\n",
              "      <td>a</td>\n",
              "      <td>s</td>\n",
              "      <td>s</td>\n",
              "      <td>2</td>\n",
              "    </tr>\n",
              "    <tr>\n",
              "      <th>2</th>\n",
              "      <td>c</td>\n",
              "      <td>l</td>\n",
              "      <td>a</td>\n",
              "      <td>s</td>\n",
              "      <td>s</td>\n",
              "      <td>2</td>\n",
              "    </tr>\n",
              "    <tr>\n",
              "      <th>3</th>\n",
              "      <td>c</td>\n",
              "      <td>l</td>\n",
              "      <td>a</td>\n",
              "      <td>s</td>\n",
              "      <td>s</td>\n",
              "      <td>2</td>\n",
              "    </tr>\n",
              "    <tr>\n",
              "      <th>4</th>\n",
              "      <td>c</td>\n",
              "      <td>l</td>\n",
              "      <td>a</td>\n",
              "      <td>s</td>\n",
              "      <td>s</td>\n",
              "      <td>2</td>\n",
              "    </tr>\n",
              "  </tbody>\n",
              "</table>\n",
              "</div>"
            ],
            "text/plain": [
              "   0  1  2  3  4  5\n",
              "0  c  l  a  s  s  2\n",
              "1  c  l  a  s  s  2\n",
              "2  c  l  a  s  s  2\n",
              "3  c  l  a  s  s  2\n",
              "4  c  l  a  s  s  2"
            ]
          },
          "metadata": {
            "tags": []
          },
          "execution_count": 7
        }
      ]
    },
    {
      "cell_type": "code",
      "metadata": {
        "id": "G1Wtx3dTLaXc",
        "colab_type": "code",
        "colab": {}
      },
      "source": [
        "test_Y = test_Y[5]"
      ],
      "execution_count": 8,
      "outputs": []
    },
    {
      "cell_type": "code",
      "metadata": {
        "id": "ZgfRWjihb8TH",
        "colab_type": "code",
        "colab": {
          "base_uri": "https://localhost:8080/",
          "height": 102
        },
        "outputId": "7e7c07a3-5e5a-4319-d19d-d8195a35278b"
      },
      "source": [
        "row = np.array(train_X.iloc[1])\n",
        "np.concatenate((row,np.zeros(3)))"
      ],
      "execution_count": 56,
      "outputs": [
        {
          "output_type": "execute_result",
          "data": {
            "text/plain": [
              "array([0.106, 0.059, 0.17 , 0.084, 0.09 , 0.052, 0.153, 0.159, 0.049,\n",
              "       0.086, 0.055, 0.08 , 0.052, 0.098, 0.038, 0.059, 0.177, 0.047,\n",
              "       0.046, 0.205, 0.09 , 0.127, 0.181, 0.171, 0.106, 0.193, 0.059,\n",
              "       0.082, 0.205, 0.079, 0.066, 0.101, 0.061, 0.126, 0.165, 0.075,\n",
              "       0.165, 0.199, 0.056, 0.072, 0.228, 0.   , 0.   , 0.   ])"
            ]
          },
          "metadata": {
            "tags": []
          },
          "execution_count": 56
        }
      ]
    },
    {
      "cell_type": "code",
      "metadata": {
        "id": "aB1aQGb1eHxB",
        "colab_type": "code",
        "colab": {
          "base_uri": "https://localhost:8080/",
          "height": 34
        },
        "outputId": "38549341-fd6c-4f47-ad7f-b0d657c44fad"
      },
      "source": [
        "train_X_44 = list()\n",
        "for i in (range(len(train_X))):\n",
        "  row = np.array(train_X.iloc[i])\n",
        "  row = np.concatenate((row,np.zeros(3)))\n",
        "  train_X_44.append(row)\n",
        "np.array(train_X_44).shape"
      ],
      "execution_count": 59,
      "outputs": [
        {
          "output_type": "execute_result",
          "data": {
            "text/plain": [
              "(10452, 44)"
            ]
          },
          "metadata": {
            "tags": []
          },
          "execution_count": 59
        }
      ]
    },
    {
      "cell_type": "code",
      "metadata": {
        "id": "NoPt4326g7xw",
        "colab_type": "code",
        "colab": {
          "base_uri": "https://localhost:8080/",
          "height": 34
        },
        "outputId": "807049a8-8ff9-44e3-bb89-8e915d397e75"
      },
      "source": [
        "test_X_44 = list()\n",
        "for i in (range(len(test_X))):\n",
        "  row = np.array(test_X.iloc[i])\n",
        "  row = np.concatenate((row,np.zeros(3)))\n",
        "  test_X_44.append(row)\n",
        "np.array(test_X_44).shape"
      ],
      "execution_count": 60,
      "outputs": [
        {
          "output_type": "execute_result",
          "data": {
            "text/plain": [
              "(258829, 44)"
            ]
          },
          "metadata": {
            "tags": []
          },
          "execution_count": 60
        }
      ]
    },
    {
      "cell_type": "code",
      "metadata": {
        "id": "7tKm2oMUNbtN",
        "colab_type": "code",
        "colab": {
          "base_uri": "https://localhost:8080/",
          "height": 85
        },
        "outputId": "2370ce03-77f4-441e-fe04-b89e0e8d63f7"
      },
      "source": [
        "train_y = np.array(train_Y)\n",
        "test_y = np.array(test_Y)\n",
        "train_x = list()\n",
        "train_x.append(train_X_44)\n",
        "train_x = np.dstack(train_x)\n",
        "test_x = list()\n",
        "test_x.append(test_X_44)\n",
        "test_x = np.dstack(test_x)\n",
        "print('Shape of the train features tensor',train_x.shape)\n",
        "print('Shape of the train labels tensor',train_y.shape)\n",
        "print('Shape of the test features tensor',test_x.shape)\n",
        "print('Shape of the test labels tensor',test_y.shape)"
      ],
      "execution_count": 61,
      "outputs": [
        {
          "output_type": "stream",
          "text": [
            "Shape of the train features tensor (10452, 44, 1)\n",
            "Shape of the train labels tensor (10452, 1)\n",
            "Shape of the test features tensor (258829, 44, 1)\n",
            "Shape of the test labels tensor (258829,)\n"
          ],
          "name": "stdout"
        }
      ]
    },
    {
      "cell_type": "code",
      "metadata": {
        "id": "Fbwvu5wDP--2",
        "colab_type": "code",
        "colab": {
          "base_uri": "https://localhost:8080/",
          "height": 51
        },
        "outputId": "fc1f95c8-78d3-41f8-b30b-53705b614bfd"
      },
      "source": [
        "n_steps, n_length, n_features = 4, 11, 1\n",
        "train_x = train_x.reshape((train_x.shape[0], n_steps, n_length, n_features))\n",
        "test_x = test_x.reshape((test_x.shape[0], n_steps, n_length, n_features))\n",
        "print('Shape of the train features tensor',train_x.shape)\n",
        "print('Shape of the test features tensor',test_x.shape)"
      ],
      "execution_count": 64,
      "outputs": [
        {
          "output_type": "stream",
          "text": [
            "Shape of the train features tensor (10452, 4, 11, 1)\n",
            "Shape of the test features tensor (258829, 4, 11, 1)\n"
          ],
          "name": "stdout"
        }
      ]
    },
    {
      "cell_type": "code",
      "metadata": {
        "id": "rNVeGx4HUMZT",
        "colab_type": "code",
        "colab": {}
      },
      "source": [
        "# zero-offset class values\n",
        "train_y = train_y - 1\n",
        "test_y = test_y - 1\n",
        "# one hot encode y\n",
        "train_y = to_categorical(train_y)\n",
        "test_y = to_categorical(test_y)"
      ],
      "execution_count": 65,
      "outputs": []
    },
    {
      "cell_type": "code",
      "metadata": {
        "id": "SUIudiZnXLbf",
        "colab_type": "code",
        "colab": {
          "base_uri": "https://localhost:8080/",
          "height": 51
        },
        "outputId": "cc9c9a8a-79c3-46e7-c4b0-d084eac15e5b"
      },
      "source": [
        "print('Shape of the test labels tensor',test_y.shape)\n",
        "print('Shape of the train labels tensor',train_y.shape)"
      ],
      "execution_count": 66,
      "outputs": [
        {
          "output_type": "stream",
          "text": [
            "Shape of the test labels tensor (258829, 2)\n",
            "Shape of the train labels tensor (10452, 2)\n"
          ],
          "name": "stdout"
        }
      ]
    },
    {
      "cell_type": "code",
      "metadata": {
        "id": "yfunSc0YP-8q",
        "colab_type": "code",
        "colab": {
          "base_uri": "https://localhost:8080/",
          "height": 34
        },
        "outputId": "b35a7436-499b-4d78-c34e-4475e42a851a"
      },
      "source": [
        "n_timesteps, n_features, n_outputs = train_x.shape[2], train_x.shape[3], train_y.shape[1]\n",
        "print(n_timesteps,n_features,n_outputs)"
      ],
      "execution_count": 77,
      "outputs": [
        {
          "output_type": "stream",
          "text": [
            "11 1 2\n"
          ],
          "name": "stdout"
        }
      ]
    },
    {
      "cell_type": "code",
      "metadata": {
        "id": "n0ziX9ZxmtMD",
        "colab_type": "code",
        "colab": {}
      },
      "source": [
        "from keras.layers import TimeDistributed\n",
        "from keras.layers import Conv1D\n",
        "from keras.layers import MaxPooling1D\n",
        "from keras.layers import Flatten"
      ],
      "execution_count": null,
      "outputs": []
    },
    {
      "cell_type": "code",
      "metadata": {
        "id": "uN8wDd6yTOJU",
        "colab_type": "code",
        "colab": {
          "base_uri": "https://localhost:8080/",
          "height": 459
        },
        "outputId": "b5f3bf53-5fa4-4b1b-bfa1-e15f36deb749"
      },
      "source": [
        "# define model\n",
        "model = Sequential()\n",
        "model.add(TimeDistributed(Conv1D(filters=64, kernel_size=3, activation='relu'), input_shape=(None,n_length,n_features)))\n",
        "model.add(TimeDistributed(Conv1D(filters=64, kernel_size=3, activation='relu')))\n",
        "model.add(TimeDistributed(Dropout(0.5)))\n",
        "model.add(TimeDistributed(MaxPooling1D(pool_size=2)))\n",
        "model.add(TimeDistributed(Flatten()))\n",
        "model.add(LSTM(100))\n",
        "model.add(Dropout(0.5))\n",
        "model.add(Dense(100, activation='relu'))\n",
        "model.add(Dense(n_outputs, activation='softmax'))\n",
        "model.summary()"
      ],
      "execution_count": 103,
      "outputs": [
        {
          "output_type": "stream",
          "text": [
            "Model: \"sequential_9\"\n",
            "_________________________________________________________________\n",
            "Layer (type)                 Output Shape              Param #   \n",
            "=================================================================\n",
            "time_distributed_32 (TimeDis (None, None, 9, 64)       256       \n",
            "_________________________________________________________________\n",
            "time_distributed_33 (TimeDis (None, None, 7, 64)       12352     \n",
            "_________________________________________________________________\n",
            "time_distributed_34 (TimeDis (None, None, 7, 64)       0         \n",
            "_________________________________________________________________\n",
            "time_distributed_35 (TimeDis (None, None, 3, 64)       0         \n",
            "_________________________________________________________________\n",
            "time_distributed_36 (TimeDis (None, None, 192)         0         \n",
            "_________________________________________________________________\n",
            "lstm_5 (LSTM)                (None, 100)               117200    \n",
            "_________________________________________________________________\n",
            "dropout_13 (Dropout)         (None, 100)               0         \n",
            "_________________________________________________________________\n",
            "dense_10 (Dense)             (None, 100)               10100     \n",
            "_________________________________________________________________\n",
            "dense_11 (Dense)             (None, 2)                 202       \n",
            "=================================================================\n",
            "Total params: 140,110\n",
            "Trainable params: 140,110\n",
            "Non-trainable params: 0\n",
            "_________________________________________________________________\n"
          ],
          "name": "stdout"
        }
      ]
    },
    {
      "cell_type": "code",
      "metadata": {
        "id": "R5qozE-pi_Bi",
        "colab_type": "code",
        "colab": {
          "base_uri": "https://localhost:8080/",
          "height": 34
        },
        "outputId": "73fd02b2-7c7f-4df3-95df-ca871b5110b0"
      },
      "source": [
        "verbose, epochs, batch_size = 0, 15, 64\n",
        "model.compile(loss='categorical_crossentropy', optimizer='adam', metrics=['accuracy'])\n",
        "# fit network\n",
        "model.fit(train_x, train_y, epochs=epochs, batch_size=batch_size, verbose=verbose)"
      ],
      "execution_count": 104,
      "outputs": [
        {
          "output_type": "execute_result",
          "data": {
            "text/plain": [
              "<tensorflow.python.keras.callbacks.History at 0x7f805c54bd30>"
            ]
          },
          "metadata": {
            "tags": []
          },
          "execution_count": 104
        }
      ]
    },
    {
      "cell_type": "code",
      "metadata": {
        "id": "HvqtdinCXbFd",
        "colab_type": "code",
        "colab": {
          "base_uri": "https://localhost:8080/",
          "height": 34
        },
        "outputId": "731743ca-ce00-4967-e5ac-0a9ff249d657"
      },
      "source": [
        "# evaluate model\n",
        "_, accuracy = model.evaluate(train_x, train_y, batch_size=batch_size, verbose=0)\n",
        "print(accuracy)"
      ],
      "execution_count": 105,
      "outputs": [
        {
          "output_type": "stream",
          "text": [
            "0.7154611349105835\n"
          ],
          "name": "stdout"
        }
      ]
    },
    {
      "cell_type": "code",
      "metadata": {
        "id": "Oc1K7KBSaNmU",
        "colab_type": "code",
        "colab": {
          "base_uri": "https://localhost:8080/",
          "height": 34
        },
        "outputId": "4650be0c-d564-476c-cc4c-a49931c8de1e"
      },
      "source": [
        "# evaluate model on test set\n",
        "_, accuracy = model.evaluate(test_x, test_y, batch_size=batch_size, verbose=0)\n",
        "print(accuracy)"
      ],
      "execution_count": 106,
      "outputs": [
        {
          "output_type": "stream",
          "text": [
            "0.6187559962272644\n"
          ],
          "name": "stdout"
        }
      ]
    },
    {
      "cell_type": "markdown",
      "metadata": {
        "id": "V4XaAcdYll2W",
        "colab_type": "text"
      },
      "source": [
        "*     Epochs 25, Train:71 Test:77\n",
        "*     Epochs 50 Train:84 Test:67\n",
        "*     Epochs 10 Train 70 Test 68\n",
        "*     Epochs 15 Train 71 Test 61"
      ]
    },
    {
      "cell_type": "markdown",
      "metadata": {
        "id": "JfGDY2duonun",
        "colab_type": "text"
      },
      "source": [
        "\n",
        "\n",
        "---\n",
        "## Evaluate without Padding\n",
        "\n"
      ]
    }
  ]
}